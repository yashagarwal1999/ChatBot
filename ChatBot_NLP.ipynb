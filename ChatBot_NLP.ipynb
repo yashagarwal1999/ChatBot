{
  "nbformat": 4,
  "nbformat_minor": 0,
  "metadata": {
    "colab": {
      "name": "ChatBot NLP.ipynb",
      "provenance": []
    },
    "kernelspec": {
      "name": "python3",
      "display_name": "Python 3"
    }
  },
  "cells": [
    {
      "cell_type": "code",
      "metadata": {
        "id": "KqAyV2KW5mRn",
        "colab_type": "code",
        "colab": {}
      },
      "source": [
        "import pandas as pd\n",
        "import keras as K\n",
        "import numpy as np\n",
        "import matplotlib.pyplot as plt\n",
        "# matplotlib.use('Agg')\n",
        "from sklearn.preprocessing import LabelBinarizer\n",
        "from sklearn.model_selection import train_test_split\n",
        "from sklearn.metrics import classification_report\n",
        "import cv2\n",
        "import seaborn as sns\n",
        "import random\n",
        "import os"
      ],
      "execution_count": 138,
      "outputs": []
    },
    {
      "cell_type": "code",
      "metadata": {
        "id": "kCREG0cT53qa",
        "colab_type": "code",
        "colab": {}
      },
      "source": [
        "file_name='/content/drive/My Drive/tickets.csv'"
      ],
      "execution_count": 139,
      "outputs": []
    },
    {
      "cell_type": "code",
      "metadata": {
        "id": "SAuSDBjv6Oth",
        "colab_type": "code",
        "colab": {
          "base_uri": "https://localhost:8080/",
          "height": 255
        },
        "outputId": "f40fa60c-4d88-4bf2-ccfc-d79ec0a37091"
      },
      "source": [
        "data=pd.read_csv('/content/drive/My Drive/tickets.csv')\n",
        "\n",
        "from sklearn.utils import shuffle\n",
        "data=shuffle(data)\n",
        "print(data)"
      ],
      "execution_count": 140,
      "outputs": [
        {
          "output_type": "stream",
          "text": [
            "                                                 Title                                         Resolution\n",
            "183                   FW: Myspace Login Problem - Ania  Go to URL : password.reset.com, Enter you logi...\n",
            "101          Replace the battery for my Macbook laptop  Please run Battery Helath test and send us the...\n",
            "190             How do I find the name of my computer?   Right-click My Computer. Click Properties. In...\n",
            "201                                  Install MS Office  Please login to web mail and go to settings -o...\n",
            "131        How do I determine the name of my computer?   Right-click My Computer. Click Properties. In...\n",
            "..                                                 ...                                                ...\n",
            "38               I am unable to send or receive email?   Verify that your computer is able to see the ...\n",
            "205                          LAN does not work in a VM  changed network settings to Bridged and config...\n",
            "31      How can I recover a file from the recycle bin?   Double click the recycle bin icon on your des...\n",
            "46                       My Computer doesn’t power up?   Check that all the cables are securely plugge...\n",
            "64   Compte a été verrouillé, à cause de 3 mauvaise...  Unlocked the account and new password is sent ...\n",
            "\n",
            "[236 rows x 2 columns]\n"
          ],
          "name": "stdout"
        }
      ]
    },
    {
      "cell_type": "code",
      "metadata": {
        "id": "HezDgApy6SwO",
        "colab_type": "code",
        "colab": {
          "base_uri": "https://localhost:8080/",
          "height": 68
        },
        "outputId": "5202890d-b406-49df-8425-3562bf83d5ad"
      },
      "source": [
        "print(data.iloc[0])\n"
      ],
      "execution_count": 141,
      "outputs": [
        {
          "output_type": "stream",
          "text": [
            "Title                          FW: Myspace Login Problem - Ania\n",
            "Resolution    Go to URL : password.reset.com, Enter you logi...\n",
            "Name: 183, dtype: object\n"
          ],
          "name": "stdout"
        }
      ]
    },
    {
      "cell_type": "code",
      "metadata": {
        "id": "oL3nFCSY6yqF",
        "colab_type": "code",
        "colab": {
          "base_uri": "https://localhost:8080/",
          "height": 136
        },
        "outputId": "4fd91afa-8797-4265-d56c-7590e0e884e1"
      },
      "source": [
        "#cleaning=>remove specail chars\n",
        "#Tokenization=> Divide sentence into tokens\n",
        "#Stop words removal => remove conjunctions\n",
        "#Lemmatization=> Same like Stem but more accurate\n",
        "#Stemming=> chaning playing to play\n",
        "\n",
        "import re\n",
        "import nltk\n",
        "nltk.download('punkt')\n",
        "nltk.download('wordnet')\n",
        "nltk.download('stopwords')"
      ],
      "execution_count": 142,
      "outputs": [
        {
          "output_type": "stream",
          "text": [
            "[nltk_data] Downloading package punkt to /root/nltk_data...\n",
            "[nltk_data]   Package punkt is already up-to-date!\n",
            "[nltk_data] Downloading package wordnet to /root/nltk_data...\n",
            "[nltk_data]   Package wordnet is already up-to-date!\n",
            "[nltk_data] Downloading package stopwords to /root/nltk_data...\n",
            "[nltk_data]   Package stopwords is already up-to-date!\n"
          ],
          "name": "stdout"
        },
        {
          "output_type": "execute_result",
          "data": {
            "text/plain": [
              "True"
            ]
          },
          "metadata": {
            "tags": []
          },
          "execution_count": 142
        }
      ]
    },
    {
      "cell_type": "code",
      "metadata": {
        "id": "tpWf6Set7kNV",
        "colab_type": "code",
        "colab": {}
      },
      "source": [
        "from nltk.corpus import stopwords\n",
        "from nltk.stem import PorterStemmer"
      ],
      "execution_count": 143,
      "outputs": []
    },
    {
      "cell_type": "code",
      "metadata": {
        "id": "8Pg6Vq4X78GR",
        "colab_type": "code",
        "colab": {
          "base_uri": "https://localhost:8080/",
          "height": 54
        },
        "outputId": "2dabed44-8f78-4324-ec2c-224573189d8c"
      },
      "source": [
        "#stopwords\n",
        "stop_words=stopwords.words('english')\n",
        "print(stop_words)"
      ],
      "execution_count": 144,
      "outputs": [
        {
          "output_type": "stream",
          "text": [
            "['i', 'me', 'my', 'myself', 'we', 'our', 'ours', 'ourselves', 'you', \"you're\", \"you've\", \"you'll\", \"you'd\", 'your', 'yours', 'yourself', 'yourselves', 'he', 'him', 'his', 'himself', 'she', \"she's\", 'her', 'hers', 'herself', 'it', \"it's\", 'its', 'itself', 'they', 'them', 'their', 'theirs', 'themselves', 'what', 'which', 'who', 'whom', 'this', 'that', \"that'll\", 'these', 'those', 'am', 'is', 'are', 'was', 'were', 'be', 'been', 'being', 'have', 'has', 'had', 'having', 'do', 'does', 'did', 'doing', 'a', 'an', 'the', 'and', 'but', 'if', 'or', 'because', 'as', 'until', 'while', 'of', 'at', 'by', 'for', 'with', 'about', 'against', 'between', 'into', 'through', 'during', 'before', 'after', 'above', 'below', 'to', 'from', 'up', 'down', 'in', 'out', 'on', 'off', 'over', 'under', 'again', 'further', 'then', 'once', 'here', 'there', 'when', 'where', 'why', 'how', 'all', 'any', 'both', 'each', 'few', 'more', 'most', 'other', 'some', 'such', 'no', 'nor', 'not', 'only', 'own', 'same', 'so', 'than', 'too', 'very', 's', 't', 'can', 'will', 'just', 'don', \"don't\", 'should', \"should've\", 'now', 'd', 'll', 'm', 'o', 're', 've', 'y', 'ain', 'aren', \"aren't\", 'couldn', \"couldn't\", 'didn', \"didn't\", 'doesn', \"doesn't\", 'hadn', \"hadn't\", 'hasn', \"hasn't\", 'haven', \"haven't\", 'isn', \"isn't\", 'ma', 'mightn', \"mightn't\", 'mustn', \"mustn't\", 'needn', \"needn't\", 'shan', \"shan't\", 'shouldn', \"shouldn't\", 'wasn', \"wasn't\", 'weren', \"weren't\", 'won', \"won't\", 'wouldn', \"wouldn't\"]\n"
          ],
          "name": "stdout"
        }
      ]
    },
    {
      "cell_type": "code",
      "metadata": {
        "id": "cgFrin388BYJ",
        "colab_type": "code",
        "colab": {
          "base_uri": "https://localhost:8080/",
          "height": 136
        },
        "outputId": "4574e251-54ff-401c-bc63-0a08d982eaac"
      },
      "source": [
        "#Stemming\n",
        "stemmer=PorterStemmer()\n",
        "s=\"There are several types of stemming algorithms\"\n",
        "s=nltk.word_tokenize(s) #tokenization\n",
        "for w in s:\n",
        "  print(stemmer.stem(w))"
      ],
      "execution_count": 145,
      "outputs": [
        {
          "output_type": "stream",
          "text": [
            "there\n",
            "are\n",
            "sever\n",
            "type\n",
            "of\n",
            "stem\n",
            "algorithm\n"
          ],
          "name": "stdout"
        }
      ]
    },
    {
      "cell_type": "code",
      "metadata": {
        "id": "lA77rsWv80W3",
        "colab_type": "code",
        "colab": {
          "base_uri": "https://localhost:8080/",
          "height": 136
        },
        "outputId": "581b3104-c99e-4018-ec62-27bcc045aa68"
      },
      "source": [
        "#Lemmatization\n",
        "from nltk.stem import WordNetLemmatizer\n",
        "lemm=WordNetLemmatizer()\n",
        "snew=\"There are several types of stemming algorithms\"\n",
        "snew=nltk.word_tokenize(snew)\n",
        "for i in s:\n",
        "  print(lemm.lemmatize(i))"
      ],
      "execution_count": 146,
      "outputs": [
        {
          "output_type": "stream",
          "text": [
            "There\n",
            "are\n",
            "several\n",
            "type\n",
            "of\n",
            "stemming\n",
            "algorithm\n"
          ],
          "name": "stdout"
        }
      ]
    },
    {
      "cell_type": "code",
      "metadata": {
        "id": "UuqGR6Wf9Yhz",
        "colab_type": "code",
        "colab": {
          "base_uri": "https://localhost:8080/",
          "height": 1000
        },
        "outputId": "866b58e8-b3ea-4ec8-8557-6ccccfb7dbce"
      },
      "source": [
        "stop_words.append(['é', 'à','de'])\n",
        "lema=WordNetLemmatizer()\n",
        "for index,row in data.iterrows():\n",
        "  final_sen=''\n",
        "  sen=row['Title']\n",
        "  sen=re.sub(r'[^\\w\\s]','',sen) #cleaning\n",
        "  words=nltk.word_tokenize(sen) #Tokenization\n",
        "  words=[w for w in words if not w in stop_words] #Stop words removed\n",
        "  for w in words:\n",
        "    final_sen=final_sen+' '+lema.lemmatize(w)\n",
        "  print(final_sen)\n",
        "  data.loc[index,'Title']=final_sen   #replace with new sen\n"
      ],
      "execution_count": 147,
      "outputs": [
        {
          "output_type": "stream",
          "text": [
            " FW Myspace Login Problem Ania\n",
            " Replace battery Macbook laptop\n",
            " How I find name computer\n",
            " Install MS Office\n",
            " How I determine name computer\n",
            " FW Connection issue Myspace Ania\n",
            " Install postgres database machine\n",
            " My Internet working\n",
            " MySpace Password Expiration\n",
            " New Account needed new joinee\n",
            " My computer turn What I\n",
            " How I update Microsoft Windows computer\n",
            " The desktop work\n",
            " install MS office\n",
            " LAN work VM\n",
            " New account necessary new member\n",
            " Blocked account Do log\n",
            " The wheel mouse work correctly I\n",
            " How I get safe mode\n",
            " Login credetials work\n",
            " MySpace password expiration\n",
            " I receive email attachment\n",
            " I lost printer installation disc I install printer\n",
            " I cant receive email attachment\n",
            " Why mouse acting erratically\n",
            " The My Space QA app\n",
            " Install postgres database machine\n",
            " How I clean keyboard\n",
            " How I get safe mode\n",
            " There display monitor I\n",
            " MySpace Password Expiry\n",
            " Computer getting switched\n",
            " How I fix paper jam\n",
            " My computer power\n",
            " Does Windows come virus protection program\n",
            " Given problem network Internet Wifi xwq090\n",
            " Wifi access required\n",
            " Replace battery Macbook laptop\n",
            " No connection internet possible\n",
            " Replace battery Macbook laptop\n",
            " Is Windows equipped antivirus program\n",
            " What I image screen distorted skewed\n",
            " You need Ethernet access\n",
            " How delete Internet cooky\n",
            " What computer virus\n",
            " If I format erase hard drive remove virus\n",
            " How I fix paper jam\n",
            " System showing blue screen startup\n",
            " How I get safe mode\n",
            " Account got locked 3 wrong attempt o password Could please reset password\n",
            " How I recover file Recycle Bin\n",
            " Create new account share username password\n",
            " System showing blue screen startup\n",
            " Requires permission wifi access laptop\n",
            " System show blue screen beginning\n",
            " Replace battery Macbook laptop\n",
            " The computer turn\n",
            " There black border screen I\n",
            " How I determine computer name\n",
            " I send receive email\n",
            " You need wifi access permission laptop\n",
            " Login credetials working\n",
            " I lost printer installation disk I install printer\n",
            " Why mouse acting erratically\n",
            " Why mouse act erratically\n",
            " My Internet work\n",
            " Login credential work\n",
            " Can connect Internet\n",
            " Request system configured share user\n",
            " I send receive email\n",
            " Request configure system share among user\n",
            " Password expired\n",
            " My printer printing smudgeddistorted page\n",
            " I delete file used Windows\n",
            " How I clean keyboard\n",
            " A new account needed new participant\n",
            " My computer turn I\n",
            " System showing blue screen startup\n",
            " How I enter safe mode\n",
            " Wifi access required\n",
            " How I delete internet cooky\n",
            " How I recover file recycle bin\n",
            " Unable connect Internet\n",
            " My Internet work\n",
            " What computer crash\n",
            " How I recover file recycle bin\n",
            " Password expired\n",
            " Forgotten password please reset password\n",
            " Blocked account Impossible connect\n",
            " I cant delete file used Windows\n",
            " There black border screen I\n",
            " The computer turn\n",
            " I send receive email\n",
            " What image screen distorted tilted\n",
            " How I fix paper jam\n",
            " How I update Microsoft Windows computer\n",
            " What I hard drive work\n",
            " Nothing appears monitor\n",
            " I delete file used Windows\n",
            " Need Ethernet access\n",
            " My printer print stained distorted page\n",
            " My printer print smeared distorted page\n",
            " I connect network drive anymore\n",
            " How I map network drive\n",
            " My computer freeze behaves strangely\n",
            " My computer freeze behaves strangely\n",
            " The computer turn\n",
            " Configure outlook system\n",
            " System configuration request share user\n",
            " My Space QA application\n",
            " What I image screen distorted distorted\n",
            " How I map network drive\n",
            " Install Postgres database computer\n",
            " My mouse wheel working properly I\n",
            " My computer turn I\n",
            " Can virus damage computer hardware\n",
            " System behaving strangely blue screen appearing middle\n",
            " installer MS Office\n",
            " If I format erase hard drive remove virus\n",
            " How fix paper jam\n",
            " Is safe turn Windows computer without shut\n",
            " I forgot password reset password\n",
            " The system behaves strangely blue screen appears middle\n",
            " Nothing appears monitor\n",
            " How I update Microsoft Windows computer\n",
            " Are space allowed email address\n",
            " Are space allowed email address\n",
            " How I map network drive\n",
            " Configure Outlook system\n",
            " MySpace Password Expiry\n",
            " Create new account share username password\n",
            " Can virus damage computer hardware\n",
            " I receive signal input message I\n",
            " Configure Outlook system\n",
            " Forgot password please reset password\n",
            " I receive message signal input I\n",
            " Login credential work\n",
            " WiFi access required\n",
            " I connect network drive anymore\n",
            " I lost printer installation disk How I install printer\n",
            " How I delete Internet cooky\n",
            " Are space allowed email address\n",
            " My printer printing stained distorted page\n",
            " Account locked Not able login\n",
            " My computer turn\n",
            " What computer virus\n",
            " What I computer crash\n",
            " Request configure system share among user\n",
            " FW Myspace login problem Ania\n",
            " I receive attachment\n",
            " There black border screen I\n",
            " I connect network drive anymore\n",
            " How I update computer Microsoft Windows\n",
            " System behaving strangely blue screen appears middle\n",
            " LAN work virtual machine\n",
            " System hang blue screen startup\n",
            " Needs permission wifi access laptop\n",
            " My computer turn\n",
            " Is safe turn Windows computer without shutting\n",
            " A new account required new client\n",
            " Can virus damage computer hardware\n",
            " Blocked account I log\n",
            " Faced network internet problem wifi xwq090\n",
            " I cant connect network drive anymore\n",
            " Is safe turn Windows computer without closing\n",
            " Does Windows come virus protection program\n",
            " How map network drive\n",
            " Can virus damage computer hardware\n",
            " The desktop working\n",
            " My computer turn I\n",
            " What I hard drive work\n",
            " The office work\n",
            " Forgotten password please reset password\n",
            " How I clean keyboard\n",
            " There screen monitor I\n",
            " There display monitor I\n",
            " What I hard disk fails work\n",
            " Can connect Internet\n",
            " La cuenta se bloqueó debido 3 intentos incorrectos de contraseña Podrías por favor reiniciar la contraseña\n",
            " What I computer crash\n",
            " I delete file using Windows\n",
            " What I image screen distorted skewed\n",
            " Facing network internet problem wifi xwq090\n",
            " Is safe turn Windows computer without shutting\n",
            " The account blocked due 3 wrong password attempt Could please reset password\n",
            " Configure Outlook system\n",
            " The system hang startup blue screen\n",
            " Create new account share username password\n",
            " My computer freeze behaves strangely\n",
            " Nothing appears Monitor\n",
            " My Computer freeze behaving strangely\n",
            " Password expired\n",
            " What I computer crash\n",
            " I get signal input message I\n",
            " FW Myspace Login Issue Ania\n",
            " Does Windows come virus protection program\n",
            " The system hang blue screen startup\n",
            " Need Ethernet access\n",
            " My Space QA application available\n",
            " Facing networkinternet issue wifi xwq090\n",
            " There display monitor I\n",
            " I lost printer installation disk I install printer\n",
            " If I format delete drive remove virus\n",
            " There black border screen I\n",
            " If I format erase hard drive eliminate virus\n",
            " Install postgres database machine\n",
            " How I determine name computer\n",
            " How I delete Internet cooky\n",
            " What computer virus\n",
            " My internet working\n",
            " LAN working VM\n",
            " Need authorization wifi access laptop\n",
            " What hard drive work\n",
            " Why mouse behave unpredictably\n",
            " The My Space QA application inactive\n",
            " Desktop working\n",
            " The wheel mouse working properly I\n",
            " install MS office\n",
            " Are space allowed email address\n",
            " I get signal input message I\n",
            " The password expired\n",
            " System behaves strangely blue screen appears middle\n",
            " Nothing appears Monitor\n",
            " Wifi access needed\n",
            " The wheel mouse isnt working properly I\n",
            " I receive email attachment\n",
            " The system hang blue screen start\n",
            " Create new account share username password\n",
            " What computer virus\n",
            " Need Ethernet access\n",
            " How I clean keyboard\n",
            " I unable send receive email\n",
            " LAN work VM\n",
            " How I recover file recycle bin\n",
            " My Computer doesnt power\n",
            " Compte été verrouillé à cause de 3 mauvaises tentatives o mot de passe Pourriezvous réinitialiser le mot de passe\n"
          ],
          "name": "stdout"
        }
      ]
    },
    {
      "cell_type": "code",
      "metadata": {
        "id": "cTXyy05z--kI",
        "colab_type": "code",
        "colab": {
          "base_uri": "https://localhost:8080/",
          "height": 255
        },
        "outputId": "7cdb6c62-de7e-4ef8-e35a-7d9dd049203d"
      },
      "source": [
        "print(data)"
      ],
      "execution_count": 148,
      "outputs": [
        {
          "output_type": "stream",
          "text": [
            "                                                 Title                                         Resolution\n",
            "183                      FW Myspace Login Problem Ania  Go to URL : password.reset.com, Enter you logi...\n",
            "101                     Replace battery Macbook laptop  Please run Battery Helath test and send us the...\n",
            "190                           How I find name computer   Right-click My Computer. Click Properties. In...\n",
            "201                                  Install MS Office  Please login to web mail and go to settings -o...\n",
            "131                      How I determine name computer   Right-click My Computer. Click Properties. In...\n",
            "..                                                 ...                                                ...\n",
            "38                         I unable send receive email   Verify that your computer is able to see the ...\n",
            "205                                        LAN work VM  changed network settings to Bridged and config...\n",
            "31                      How I recover file recycle bin   Double click the recycle bin icon on your des...\n",
            "46                            My Computer doesnt power   Check that all the cables are securely plugge...\n",
            "64    Compte été verrouillé à cause de 3 mauvaises ...  Unlocked the account and new password is sent ...\n",
            "\n",
            "[236 rows x 2 columns]\n"
          ],
          "name": "stdout"
        }
      ]
    },
    {
      "cell_type": "code",
      "metadata": {
        "id": "qsGBfzC-_PNY",
        "colab_type": "code",
        "colab": {}
      },
      "source": [
        "from sklearn.feature_extraction.text import CountVectorizer\n"
      ],
      "execution_count": 149,
      "outputs": []
    },
    {
      "cell_type": "code",
      "metadata": {
        "id": "UII7mEOVH6j7",
        "colab_type": "code",
        "colab": {
          "base_uri": "https://localhost:8080/",
          "height": 190
        },
        "outputId": "aa8b2bdd-69ff-4d2f-f1ad-acf95db250f7"
      },
      "source": [
        "#bag of words: Replace words by their frequency less efficient than tf-idf\n",
        "vectorizer=CountVectorizer()\n",
        "try2=['There is a cat', 'The cat is beautiful' ,'There is still hope']\n",
        "print(try2)\n",
        "frequency=vectorizer.fit_transform(try2)\n",
        "print(vectorizer.get_feature_names())\n",
        "print(frequency.toarray())\n",
        "vectorizer2=CountVectorizer(analyzer='word',ngram_range=(1,3))\n",
        "freq2=vectorizer2.fit_transform(try2)\n",
        "print(vectorizer2.get_feature_names())\n",
        "print(freq2.toarray())"
      ],
      "execution_count": 150,
      "outputs": [
        {
          "output_type": "stream",
          "text": [
            "['There is a cat', 'The cat is beautiful', 'There is still hope']\n",
            "['beautiful', 'cat', 'hope', 'is', 'still', 'the', 'there']\n",
            "[[0 1 0 1 0 0 1]\n",
            " [1 1 0 1 0 1 0]\n",
            " [0 0 1 1 1 0 1]]\n",
            "['beautiful', 'cat', 'cat is', 'cat is beautiful', 'hope', 'is', 'is beautiful', 'is cat', 'is still', 'is still hope', 'still', 'still hope', 'the', 'the cat', 'the cat is', 'there', 'there is', 'there is cat', 'there is still']\n",
            "[[0 1 0 0 0 1 0 1 0 0 0 0 0 0 0 1 1 1 0]\n",
            " [1 1 1 1 0 1 1 0 0 0 0 0 1 1 1 0 0 0 0]\n",
            " [0 0 0 0 1 1 0 0 1 1 1 1 0 0 0 1 1 0 1]]\n"
          ],
          "name": "stdout"
        }
      ]
    },
    {
      "cell_type": "code",
      "metadata": {
        "id": "Dk_kf7zCI9fO",
        "colab_type": "code",
        "colab": {}
      },
      "source": [
        "#TF-IDF vectorizer Tf=term freq= freq of word/total words , DF=docuemnt freq= no of docs containign word/total docs IDF= lof(1/DF)\n",
        "# def dummy(doc):\n",
        "#   return doc\n",
        "\n",
        "from sklearn.feature_extraction.text import TfidfVectorizer\n",
        "vectorizertf=TfidfVectorizer()\n",
        "X=data['Title']\n",
        "# data=[line.strip()  for line in data['Title']]\n",
        "# data=[line.lower() for line in data['Title']]\n",
        "\n",
        "vector=vectorizertf.fit_transform(X)"
      ],
      "execution_count": 151,
      "outputs": []
    },
    {
      "cell_type": "code",
      "metadata": {
        "id": "jtMP8PzrLzoE",
        "colab_type": "code",
        "colab": {
          "base_uri": "https://localhost:8080/",
          "height": 54
        },
        "outputId": "956b52ae-053f-4220-9784-4d06027e94bb"
      },
      "source": [
        "print(vectorizertf.get_feature_names())"
      ],
      "execution_count": 152,
      "outputs": [
        {
          "output_type": "stream",
          "text": [
            "['able', 'access', 'account', 'act', 'acting', 'address', 'allowed', 'among', 'ania', 'antivirus', 'anymore', 'app', 'appearing', 'appears', 'application', 'are', 'attachment', 'attempt', 'authorization', 'available', 'battery', 'beginning', 'behave', 'behaves', 'behaving', 'bin', 'black', 'blocked', 'bloqueó', 'blue', 'border', 'can', 'cant', 'cause', 'clean', 'client', 'closing', 'come', 'compte', 'computer', 'configuration', 'configure', 'configured', 'connect', 'connection', 'contraseña', 'cooky', 'correctly', 'could', 'crash', 'create', 'credential', 'credetials', 'cuenta', 'damage', 'database', 'de', 'debido', 'delete', 'desktop', 'determine', 'disc', 'disk', 'display', 'distorted', 'do', 'does', 'doesnt', 'drive', 'due', 'eliminate', 'email', 'enter', 'equipped', 'erase', 'erratically', 'ethernet', 'expiration', 'expired', 'expiry', 'faced', 'facing', 'fails', 'favor', 'file', 'find', 'fix', 'forgot', 'forgotten', 'format', 'freeze', 'fw', 'get', 'getting', 'given', 'got', 'hang', 'hard', 'hardware', 'how', 'if', 'image', 'impossible', 'inactive', 'incorrectos', 'input', 'install', 'installation', 'installer', 'intentos', 'internet', 'is', 'isnt', 'issue', 'jam', 'joinee', 'keyboard', 'la', 'lan', 'laptop', 'le', 'locked', 'log', 'login', 'lost', 'macbook', 'machine', 'map', 'mauvaises', 'member', 'message', 'microsoft', 'middle', 'mode', 'monitor', 'mot', 'mouse', 'ms', 'my', 'myspace', 'name', 'necessary', 'need', 'needed', 'needs', 'network', 'networkinternet', 'new', 'no', 'not', 'nothing', 'office', 'outlook', 'page', 'paper', 'participant', 'passe', 'password', 'permission', 'please', 'podrías', 'por', 'possible', 'postgres', 'pourriezvous', 'power', 'print', 'printer', 'printing', 'problem', 'program', 'properly', 'protection', 'qa', 'receive', 'recover', 'recycle', 'reiniciar', 'remove', 'replace', 'request', 'required', 'requires', 'reset', 'réinitialiser', 'safe', 'screen', 'se', 'send', 'share', 'show', 'showing', 'shut', 'shutting', 'signal', 'skewed', 'smeared', 'smudgeddistorted', 'space', 'stained', 'start', 'startup', 'strangely', 'switched', 'system', 'tentatives', 'the', 'there', 'tilted', 'turn', 'unable', 'unpredictably', 'update', 'used', 'user', 'username', 'using', 'verrouillé', 'virtual', 'virus', 'vm', 'what', 'wheel', 'why', 'wifi', 'windows', 'without', 'work', 'working', 'wrong', 'xwq090', 'you', 'été']\n"
          ],
          "name": "stdout"
        }
      ]
    },
    {
      "cell_type": "code",
      "metadata": {
        "id": "-l1x8VmbOSit",
        "colab_type": "code",
        "colab": {
          "base_uri": "https://localhost:8080/",
          "height": 884
        },
        "outputId": "294c1352-7d05-4332-9cb3-437c8429b342"
      },
      "source": [
        "print(vector)"
      ],
      "execution_count": 153,
      "outputs": [
        {
          "output_type": "stream",
          "text": [
            "  (0, 8)\t0.47289297725930424\n",
            "  (0, 169)\t0.45514749721322634\n",
            "  (0, 123)\t0.4156833048717488\n",
            "  (0, 139)\t0.4156833048717488\n",
            "  (0, 91)\t0.47289297725930424\n",
            "  (1, 119)\t0.45255853199259893\n",
            "  (1, 125)\t0.5148432690702106\n",
            "  (1, 20)\t0.5148432690702106\n",
            "  (1, 179)\t0.5148432690702106\n",
            "  (2, 39)\t0.319427043812261\n",
            "  (2, 140)\t0.5684078239084808\n",
            "  (2, 85)\t0.6756042257804868\n",
            "  (2, 99)\t0.34414799070826246\n",
            "  (3, 151)\t0.5970796604634868\n",
            "  (3, 137)\t0.6203588507601436\n",
            "  (3, 106)\t0.5085772068667265\n",
            "  (4, 60)\t0.6277173528894465\n",
            "  (4, 39)\t0.33726731721858305\n",
            "  (4, 140)\t0.6001538866832401\n",
            "  (4, 99)\t0.36336895012734133\n",
            "  (5, 113)\t0.46369145485345037\n",
            "  (5, 44)\t0.48994133028750114\n",
            "  (5, 8)\t0.443330469631156\n",
            "  (5, 139)\t0.38969721190334633\n",
            "  (5, 91)\t0.443330469631156\n",
            "  :\t:\n",
            "  (231, 174)\t0.4418121223216003\n",
            "  (232, 220)\t0.6398003771198055\n",
            "  (232, 118)\t0.6117063376730966\n",
            "  (232, 227)\t0.4652642624228968\n",
            "  (233, 25)\t0.49151706095130016\n",
            "  (233, 176)\t0.49151706095130016\n",
            "  (233, 84)\t0.43205428315136885\n",
            "  (233, 175)\t0.49151706095130016\n",
            "  (233, 99)\t0.29759373782380605\n",
            "  (234, 67)\t0.6458992197361592\n",
            "  (234, 165)\t0.6005496882808459\n",
            "  (234, 138)\t0.3590206468542293\n",
            "  (234, 39)\t0.30538245690014787\n",
            "  (235, 120)\t0.20088357923005817\n",
            "  (235, 184)\t0.20088357923005817\n",
            "  (235, 164)\t0.20088357923005817\n",
            "  (235, 156)\t0.40176715846011635\n",
            "  (235, 135)\t0.40176715846011635\n",
            "  (235, 205)\t0.20088357923005817\n",
            "  (235, 128)\t0.20088357923005817\n",
            "  (235, 33)\t0.20088357923005817\n",
            "  (235, 217)\t0.20088357923005817\n",
            "  (235, 232)\t0.20088357923005817\n",
            "  (235, 38)\t0.20088357923005817\n",
            "  (235, 56)\t0.5603377455849785\n"
          ],
          "name": "stdout"
        }
      ]
    },
    {
      "cell_type": "code",
      "metadata": {
        "id": "3GKYliFpPOrd",
        "colab_type": "code",
        "colab": {}
      },
      "source": [
        "#Above was preprocess  now we will build the model"
      ],
      "execution_count": 154,
      "outputs": []
    },
    {
      "cell_type": "code",
      "metadata": {
        "id": "W8DUXd5bPu_Q",
        "colab_type": "code",
        "colab": {}
      },
      "source": [
        "from sklearn import model_selection,preprocessing\n",
        "from sklearn.metrics import accuracy_score\n"
      ],
      "execution_count": 155,
      "outputs": []
    },
    {
      "cell_type": "code",
      "metadata": {
        "id": "d5ebfchIRnq9",
        "colab_type": "code",
        "colab": {}
      },
      "source": [
        "train_x,valid_x,train_y,valid_y=model_selection.train_test_split(vector,data['Resolution'],test_size=0.1)"
      ],
      "execution_count": 156,
      "outputs": []
    },
    {
      "cell_type": "code",
      "metadata": {
        "id": "LU9D0gbOSAxC",
        "colab_type": "code",
        "colab": {
          "base_uri": "https://localhost:8080/",
          "height": 34
        },
        "outputId": "1312a52a-69fe-4603-cd3d-f1221d8bd120"
      },
      "source": [
        "print(train_x.shape,valid_x.shape)"
      ],
      "execution_count": 157,
      "outputs": [
        {
          "output_type": "stream",
          "text": [
            "(212, 233) (24, 233)\n"
          ],
          "name": "stdout"
        }
      ]
    },
    {
      "cell_type": "code",
      "metadata": {
        "id": "lZbZ5fO-SHTm",
        "colab_type": "code",
        "colab": {}
      },
      "source": [
        "#label Encoding\n",
        "encoder=preprocessing.LabelEncoder()\n",
        "train_y=encoder.fit_transform(train_y)\n",
        "valid_y=encoder.fit_transform(valid_y)"
      ],
      "execution_count": 158,
      "outputs": []
    },
    {
      "cell_type": "code",
      "metadata": {
        "id": "9YtGViF9Su48",
        "colab_type": "code",
        "colab": {
          "base_uri": "https://localhost:8080/",
          "height": 884
        },
        "outputId": "a4612cee-5e36-4234-8602-b03f9ff112a8"
      },
      "source": [
        "M=vector.toarray()\n",
        "print(vector)"
      ],
      "execution_count": 159,
      "outputs": [
        {
          "output_type": "stream",
          "text": [
            "  (0, 8)\t0.47289297725930424\n",
            "  (0, 169)\t0.45514749721322634\n",
            "  (0, 123)\t0.4156833048717488\n",
            "  (0, 139)\t0.4156833048717488\n",
            "  (0, 91)\t0.47289297725930424\n",
            "  (1, 119)\t0.45255853199259893\n",
            "  (1, 125)\t0.5148432690702106\n",
            "  (1, 20)\t0.5148432690702106\n",
            "  (1, 179)\t0.5148432690702106\n",
            "  (2, 39)\t0.319427043812261\n",
            "  (2, 140)\t0.5684078239084808\n",
            "  (2, 85)\t0.6756042257804868\n",
            "  (2, 99)\t0.34414799070826246\n",
            "  (3, 151)\t0.5970796604634868\n",
            "  (3, 137)\t0.6203588507601436\n",
            "  (3, 106)\t0.5085772068667265\n",
            "  (4, 60)\t0.6277173528894465\n",
            "  (4, 39)\t0.33726731721858305\n",
            "  (4, 140)\t0.6001538866832401\n",
            "  (4, 99)\t0.36336895012734133\n",
            "  (5, 113)\t0.46369145485345037\n",
            "  (5, 44)\t0.48994133028750114\n",
            "  (5, 8)\t0.443330469631156\n",
            "  (5, 139)\t0.38969721190334633\n",
            "  (5, 91)\t0.443330469631156\n",
            "  :\t:\n",
            "  (231, 174)\t0.4418121223216003\n",
            "  (232, 220)\t0.6398003771198055\n",
            "  (232, 118)\t0.6117063376730966\n",
            "  (232, 227)\t0.4652642624228968\n",
            "  (233, 25)\t0.49151706095130016\n",
            "  (233, 176)\t0.49151706095130016\n",
            "  (233, 84)\t0.43205428315136885\n",
            "  (233, 175)\t0.49151706095130016\n",
            "  (233, 99)\t0.29759373782380605\n",
            "  (234, 67)\t0.6458992197361592\n",
            "  (234, 165)\t0.6005496882808459\n",
            "  (234, 138)\t0.3590206468542293\n",
            "  (234, 39)\t0.30538245690014787\n",
            "  (235, 120)\t0.20088357923005817\n",
            "  (235, 184)\t0.20088357923005817\n",
            "  (235, 164)\t0.20088357923005817\n",
            "  (235, 156)\t0.40176715846011635\n",
            "  (235, 135)\t0.40176715846011635\n",
            "  (235, 205)\t0.20088357923005817\n",
            "  (235, 128)\t0.20088357923005817\n",
            "  (235, 33)\t0.20088357923005817\n",
            "  (235, 217)\t0.20088357923005817\n",
            "  (235, 232)\t0.20088357923005817\n",
            "  (235, 38)\t0.20088357923005817\n",
            "  (235, 56)\t0.5603377455849785\n"
          ],
          "name": "stdout"
        }
      ]
    },
    {
      "cell_type": "code",
      "metadata": {
        "id": "pMaBgYzQSx_L",
        "colab_type": "code",
        "colab": {}
      },
      "source": [
        "#Using Logistic Regression for ChatBot\n",
        "from sklearn.linear_model import LogisticRegression\n",
        "from sklearn import metrics"
      ],
      "execution_count": 160,
      "outputs": []
    },
    {
      "cell_type": "code",
      "metadata": {
        "id": "iMixZ5csTBjS",
        "colab_type": "code",
        "colab": {
          "base_uri": "https://localhost:8080/",
          "height": 102
        },
        "outputId": "924511bf-ecfc-4663-961d-5ffb60b611ee"
      },
      "source": [
        "logreg=LogisticRegression(max_iter=300)\n",
        "logreg.fit(train_x,train_y)"
      ],
      "execution_count": 161,
      "outputs": [
        {
          "output_type": "execute_result",
          "data": {
            "text/plain": [
              "LogisticRegression(C=1.0, class_weight=None, dual=False, fit_intercept=True,\n",
              "                   intercept_scaling=1, l1_ratio=None, max_iter=300,\n",
              "                   multi_class='auto', n_jobs=None, penalty='l2',\n",
              "                   random_state=None, solver='lbfgs', tol=0.0001, verbose=0,\n",
              "                   warm_start=False)"
            ]
          },
          "metadata": {
            "tags": []
          },
          "execution_count": 161
        }
      ]
    },
    {
      "cell_type": "code",
      "metadata": {
        "id": "Oa_YRcuKTKQi",
        "colab_type": "code",
        "colab": {
          "base_uri": "https://localhost:8080/",
          "height": 34
        },
        "outputId": "72b653d2-b452-4ae4-d58f-716d28325594"
      },
      "source": [
        "y_pred=logreg.predict(valid_x)\n",
        "print(y_pred)"
      ],
      "execution_count": 162,
      "outputs": [
        {
          "output_type": "stream",
          "text": [
            "[20 45 38 22 33 31 35 36 36 20  1  0 47  3 36 36 39  2 17 23 22 27 44 36]\n"
          ],
          "name": "stdout"
        }
      ]
    },
    {
      "cell_type": "code",
      "metadata": {
        "id": "JJjRzsMDTRqS",
        "colab_type": "code",
        "colab": {
          "base_uri": "https://localhost:8080/",
          "height": 34
        },
        "outputId": "c5616f18-f6ee-4d69-fd3b-e7a42ae427d8"
      },
      "source": [
        "accuracy_score(y_pred,valid_y)"
      ],
      "execution_count": 163,
      "outputs": [
        {
          "output_type": "execute_result",
          "data": {
            "text/plain": [
              "0.16666666666666666"
            ]
          },
          "metadata": {
            "tags": []
          },
          "execution_count": 163
        }
      ]
    },
    {
      "cell_type": "code",
      "metadata": {
        "id": "OfJVGeAvTgk2",
        "colab_type": "code",
        "colab": {
          "base_uri": "https://localhost:8080/",
          "height": 34
        },
        "outputId": "b45a57f4-caff-4b59-80d7-4a060d07403a"
      },
      "source": [
        "print(valid_y)"
      ],
      "execution_count": 164,
      "outputs": [
        {
          "output_type": "stream",
          "text": [
            "[ 5 17 14  6 10  9 11 12 18  5  1  0 18  3 15 12 13  2  4  7  6  8 16  2]\n"
          ],
          "name": "stdout"
        }
      ]
    },
    {
      "cell_type": "code",
      "metadata": {
        "id": "IvIpL2zqT1np",
        "colab_type": "code",
        "colab": {
          "base_uri": "https://localhost:8080/",
          "height": 119
        },
        "outputId": "10a2bc72-4414-4d40-e3ed-d8ed55fa87b0"
      },
      "source": [
        "#decision Tree\n",
        "from sklearn.tree import DecisionTreeClassifier\n",
        "dtc=DecisionTreeClassifier()\n",
        "dtc.fit(train_x,train_y)"
      ],
      "execution_count": 165,
      "outputs": [
        {
          "output_type": "execute_result",
          "data": {
            "text/plain": [
              "DecisionTreeClassifier(ccp_alpha=0.0, class_weight=None, criterion='gini',\n",
              "                       max_depth=None, max_features=None, max_leaf_nodes=None,\n",
              "                       min_impurity_decrease=0.0, min_impurity_split=None,\n",
              "                       min_samples_leaf=1, min_samples_split=2,\n",
              "                       min_weight_fraction_leaf=0.0, presort='deprecated',\n",
              "                       random_state=None, splitter='best')"
            ]
          },
          "metadata": {
            "tags": []
          },
          "execution_count": 165
        }
      ]
    },
    {
      "cell_type": "code",
      "metadata": {
        "id": "ra5uQy0lVSFH",
        "colab_type": "code",
        "colab": {}
      },
      "source": [
        "pred_tree=dtc.predict(valid_x)\n"
      ],
      "execution_count": 166,
      "outputs": []
    },
    {
      "cell_type": "code",
      "metadata": {
        "id": "kCLYKyqzVX2Z",
        "colab_type": "code",
        "colab": {
          "base_uri": "https://localhost:8080/",
          "height": 34
        },
        "outputId": "97329b0f-8511-4fc1-9146-e5750ad76249"
      },
      "source": [
        "accuracy_score(pred_tree,valid_y)"
      ],
      "execution_count": 167,
      "outputs": [
        {
          "output_type": "execute_result",
          "data": {
            "text/plain": [
              "0.20833333333333334"
            ]
          },
          "metadata": {
            "tags": []
          },
          "execution_count": 167
        }
      ]
    },
    {
      "cell_type": "code",
      "metadata": {
        "id": "I7yeVdlhVbzM",
        "colab_type": "code",
        "colab": {
          "base_uri": "https://localhost:8080/",
          "height": 34
        },
        "outputId": "95330c57-2095-4d41-9fb7-fa22578c9284"
      },
      "source": [
        "print(pred_tree)"
      ],
      "execution_count": 168,
      "outputs": [
        {
          "output_type": "stream",
          "text": [
            "[20 45 38 22 33 31 35 36 47 20  1  0 47  3 43 36 39  2 17 23 22 27 44  2]\n"
          ],
          "name": "stdout"
        }
      ]
    },
    {
      "cell_type": "code",
      "metadata": {
        "id": "NRWGBFwkVjgO",
        "colab_type": "code",
        "colab": {
          "base_uri": "https://localhost:8080/",
          "height": 34
        },
        "outputId": "346f1b0d-44a9-4e8b-d573-bfba875d6245"
      },
      "source": [
        "from sklearn.naive_bayes import GaussianNB\n",
        "model=GaussianNB()\n",
        "model.fit(train_x.toarray(),train_y)\n",
        "# predict_nv=model.predict(valid_x)"
      ],
      "execution_count": 169,
      "outputs": [
        {
          "output_type": "execute_result",
          "data": {
            "text/plain": [
              "GaussianNB(priors=None, var_smoothing=1e-09)"
            ]
          },
          "metadata": {
            "tags": []
          },
          "execution_count": 169
        }
      ]
    },
    {
      "cell_type": "code",
      "metadata": {
        "id": "neRKn4r7WwHL",
        "colab_type": "code",
        "colab": {}
      },
      "source": [
        "predict_nv=model.predict(valid_x.toarray())"
      ],
      "execution_count": 170,
      "outputs": []
    },
    {
      "cell_type": "code",
      "metadata": {
        "id": "81Mg736QXLVc",
        "colab_type": "code",
        "colab": {
          "base_uri": "https://localhost:8080/",
          "height": 34
        },
        "outputId": "be1bc3b7-cc20-44e9-da3b-7dca5c02024c"
      },
      "source": [
        "accuracy_score(predict_nv,valid_y)"
      ],
      "execution_count": 171,
      "outputs": [
        {
          "output_type": "execute_result",
          "data": {
            "text/plain": [
              "0.125"
            ]
          },
          "metadata": {
            "tags": []
          },
          "execution_count": 171
        }
      ]
    },
    {
      "cell_type": "code",
      "metadata": {
        "id": "vm9Za6yEXN9d",
        "colab_type": "code",
        "colab": {
          "base_uri": "https://localhost:8080/",
          "height": 34
        },
        "outputId": "80186847-ab43-4eb5-e989-8235316c2197"
      },
      "source": [
        "print(predict_nv)"
      ],
      "execution_count": 172,
      "outputs": [
        {
          "output_type": "stream",
          "text": [
            "[20 45 40 22 33 31 35 36 47 20  1  0 47  6 43 36 39  2 17 45 22 27 44 19]\n"
          ],
          "name": "stdout"
        }
      ]
    },
    {
      "cell_type": "code",
      "metadata": {
        "id": "a3lBBzrqXQbf",
        "colab_type": "code",
        "colab": {
          "base_uri": "https://localhost:8080/",
          "height": 105
        },
        "outputId": "d04d9895-6ced-407f-e2cb-144efc2b471c"
      },
      "source": [
        "pd.set_option('display.max_colwidth',1000)\n",
        "temp=model.predict(vectorizertf.transform(['Wifi not working']).toarray()) \n",
        "print(data.loc[temp]['Resolution'])  \n",
        "temp=model.predict(vectorizertf.transform(['Desktop not working']).toarray()) \n",
        "print(data.loc[temp]['Resolution'])                "
      ],
      "execution_count": 176,
      "outputs": [
        {
          "output_type": "stream",
          "text": [
            "47     Try restarting your computer. Many basic problems can be resolved easily and quickly this way. Press the Ctrl & Alt & Del keys on your keyboard together at the same time. This should bring up a menu that will allow you to run Task Manager. In Task Manager, switch to the Applications tab. Highlight any programs with the status 'Not Responding' and choose End Task. You may be asked to confirm if you want to end the unresponsive program, so choose Yes. Do this for all programs that are not responding. If all else fails and you cannot shutdown/restart your computer, then hold down the power button on the machine until it forcibly turns off. Wait a few seconds and then turn it back on again. \n",
            "Name: Resolution, dtype: object\n",
            "40     Close all programs running on the computer and try again. If after closing all programs running on the computer you are still encountering the same issue when attempting to delete files, load the computer into Safe Mode and delete the files.\n",
            "Name: Resolution, dtype: object\n"
          ],
          "name": "stdout"
        }
      ]
    },
    {
      "cell_type": "code",
      "metadata": {
        "id": "e5GKdKs4YOxl",
        "colab_type": "code",
        "colab": {
          "base_uri": "https://localhost:8080/",
          "height": 51
        },
        "outputId": "6a63665b-d7db-4bb2-ad2a-7fef60590518"
      },
      "source": [
        "print(data.loc[temp]['Resolution'])"
      ],
      "execution_count": 174,
      "outputs": [
        {
          "output_type": "stream",
          "text": [
            "47     Try restarting your computer. Many basic prob...\n",
            "Name: Resolution, dtype: object\n"
          ],
          "name": "stdout"
        }
      ]
    },
    {
      "cell_type": "code",
      "metadata": {
        "id": "xCQDKe1fYpQI",
        "colab_type": "code",
        "colab": {}
      },
      "source": [
        ""
      ],
      "execution_count": 174,
      "outputs": []
    }
  ]
}